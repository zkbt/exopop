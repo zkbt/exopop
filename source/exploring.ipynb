{
 "cells": [
  {
   "cell_type": "markdown",
   "metadata": {},
   "source": [
    "# Exploring\n",
    "\n",
    "An exoplanet `Population` is designed to be a (hopefully!) relatively easy way to interact with data for a group of exoplanet systems. Here we step through the basics of how we can explore a population of planets, access standardized planet properties, and filter subsets of planet populations."
   ]
  },
  {
   "cell_type": "markdown",
   "metadata": {},
   "source": [
    "## Getting started\n",
    "The `exoatlas` package contains the tools we will use. All planet properties inside a population have astropy [units](https://docs.astropy.org/en/stable/units/) associated with them, so we make also want to have access to those units for our calculations."
   ]
  },
  {
   "cell_type": "code",
   "execution_count": 1,
   "metadata": {},
   "outputs": [],
   "source": [
    "import exoatlas as ea\n",
    "import astropy.units as u"
   ]
  },
  {
   "cell_type": "markdown",
   "metadata": {},
   "source": [
    "We can always check what version of `exoatlas` we're using with its hidden `.__version__`."
   ]
  },
  {
   "cell_type": "code",
   "execution_count": 2,
   "metadata": {},
   "outputs": [
    {
     "data": {
      "text/plain": [
       "'0.2.4'"
      ]
     },
     "execution_count": 2,
     "metadata": {},
     "output_type": "execute_result"
    }
   ],
   "source": [
    "ea.__version__"
   ]
  },
  {
   "cell_type": "markdown",
   "metadata": {},
   "source": [
    "## Create a `Population`\n",
    "Now, to get started, we'll make a population that contains all confirmed transiting exoplanets. We can read more about the different populations we can create over one the [Creating](creating.html) page. When we create this population, the code will download a table of the latest data from the NASA Exoplanet Archive."
   ]
  },
  {
   "cell_type": "code",
   "execution_count": 3,
   "metadata": {},
   "outputs": [
    {
     "name": "stdout",
     "output_type": "stream",
     "text": [
      "/Users/zkbt/.exoatlas/data/standardized-TransitingExoplanets.txt is 0.009 days old.\n",
      "Should it be updated? [y/N]\n",
      "[transitingexoplanets] Loaded standardized table from /Users/zkbt/.exoatlas/data/standardized-TransitingExoplanets.txt\n"
     ]
    }
   ],
   "source": [
    "pop = ea.TransitingExoplanets()"
   ]
  },
  {
   "cell_type": "markdown",
   "metadata": {},
   "source": [
    "(The code will let you know how long ago your local dataset was updated, and ask if you'd like to update it now.)"
   ]
  },
  {
   "cell_type": "markdown",
   "metadata": {},
   "source": [
    "## What's inside a `Population`?\n",
    "The core ingredient to an exoplanet `Population` is a table of planet properties that have been standardized and populated with astropy units. This `pop.standard` table is an astropy [Table](https://docs.astropy.org/en/stable/table/), so its contents can be accessed or modified as any other astropy `Table`."
   ]
  },
  {
   "cell_type": "code",
   "execution_count": 4,
   "metadata": {},
   "outputs": [
    {
     "data": {
      "text/html": [
       "<i>Table length=3135</i>\n",
       "<table id=\"table4349223768\" class=\"table-striped table-bordered table-condensed\">\n",
       "<thead><tr><th>name</th><th>ra</th><th>dec</th><th>period</th><th>semimajoraxis</th><th>e</th><th>omega</th><th>inclination</th><th>transit_epoch</th><th>transit_duration</th><th>transit_depth</th><th>stellar_teff</th><th>stellar_radius</th><th>stellar_mass</th><th>UJmag</th><th>VJmag</th><th>BJmag</th><th>RCmag</th><th>ICmag</th><th>Jmag</th><th>Hmag</th><th>Kmag</th><th>WISE1mag</th><th>WISE2mag</th><th>WISE3mag</th><th>WISE4mag</th><th>radius</th><th>radius_uncertainty_upper</th><th>radius_uncertainty_lower</th><th>transit_ar</th><th>transit_b</th><th>rv_semiamplitude</th><th>mass</th><th>mass_uncertainty_upper</th><th>mass_uncertainty_lower</th><th>distance</th><th>distance_uncertainty_upper</th><th>distance_uncertainty_lower</th><th>discoverer</th></tr></thead>\n",
       "<thead><tr><th></th><th>deg</th><th>deg</th><th>d</th><th>AU</th><th></th><th>deg</th><th>deg</th><th>d</th><th>d</th><th></th><th>K</th><th>solRad</th><th>solMass</th><th></th><th></th><th></th><th></th><th></th><th></th><th></th><th></th><th></th><th></th><th></th><th></th><th>earthRad</th><th>earthRad</th><th>earthRad</th><th></th><th></th><th></th><th>earthMass</th><th>earthMass</th><th>earthMass</th><th>pc</th><th>pc</th><th>pc</th><th></th></tr></thead>\n",
       "<thead><tr><th>str17</th><th>float64</th><th>float64</th><th>float64</th><th>float64</th><th>float64</th><th>float64</th><th>float64</th><th>float64</th><th>float64</th><th>float64</th><th>float64</th><th>float64</th><th>float64</th><th>float64</th><th>float64</th><th>float64</th><th>float64</th><th>float64</th><th>float64</th><th>float64</th><th>float64</th><th>float64</th><th>float64</th><th>float64</th><th>float64</th><th>float64</th><th>float64</th><th>float64</th><th>float64</th><th>float64</th><th>float64</th><th>float64</th><th>float64</th><th>float64</th><th>float64</th><th>float64</th><th>float64</th><th>str44</th></tr></thead>\n",
       "<tr><td>55Cnce</td><td>133.149216</td><td>28.330818</td><td>0.736539</td><td>0.01544</td><td>nan</td><td>nan</td><td>83.3</td><td>2455733.013</td><td>nan</td><td>nan</td><td>5196.0</td><td>0.94</td><td>0.91</td><td>nan</td><td>5.96</td><td>6.83</td><td>nan</td><td>nan</td><td>4.768</td><td>4.265</td><td>4.015</td><td>4.001</td><td>3.296</td><td>4.051</td><td>4.014</td><td>1.91</td><td>0.08</td><td>-0.08</td><td>nan</td><td>0.41</td><td>nan</td><td>8.08</td><td>0.31</td><td>-0.31</td><td>12.59</td><td>0.01</td><td>-0.01</td><td>McDonald Observatory</td></tr>\n",
       "<tr><td>BD+20594b</td><td>53.650967</td><td>20.599232</td><td>41.6855</td><td>nan</td><td>0.0</td><td>nan</td><td>89.55</td><td>nan</td><td>nan</td><td>0.00049</td><td>5766.0</td><td>1.08</td><td>1.67</td><td>nan</td><td>11.038</td><td>11.728</td><td>nan</td><td>nan</td><td>9.77</td><td>9.432</td><td>9.368</td><td>9.31</td><td>9.344</td><td>9.332</td><td>8.976</td><td>2.578</td><td>0.112</td><td>-0.112</td><td>55.8</td><td>nan</td><td>3.1</td><td>22.2481</td><td>9.5349</td><td>-9.5349</td><td>180.39</td><td>1.25</td><td>-1.25</td><td>K2</td></tr>\n",
       "<tr><td>CoRoT-10b</td><td>291.063708</td><td>0.746143</td><td>13.2406</td><td>0.1055</td><td>0.53</td><td>218.9</td><td>88.55</td><td>2454273.3436</td><td>0.1242</td><td>0.0161036</td><td>5075.0</td><td>0.79</td><td>0.89</td><td>nan</td><td>15.22</td><td>16.68</td><td>nan</td><td>nan</td><td>12.527</td><td>11.929</td><td>11.782</td><td>11.64</td><td>11.752</td><td>11.396</td><td>8.923</td><td>10.87</td><td>0.78</td><td>-0.78</td><td>31.33</td><td>0.85</td><td>301.0</td><td>874.0</td><td>50.85</td><td>-50.85</td><td>345.0</td><td>70.0</td><td>-70.0</td><td>CoRoT</td></tr>\n",
       "<tr><td>CoRoT-11b</td><td>280.687263</td><td>5.937688</td><td>2.99433</td><td>0.0436</td><td>0.0</td><td>nan</td><td>83.17</td><td>2454597.679</td><td>0.1042</td><td>0.011449</td><td>6440.0</td><td>1.37</td><td>1.27</td><td>nan</td><td>12.939</td><td>13.596</td><td>nan</td><td>nan</td><td>11.589</td><td>11.416</td><td>11.248</td><td>11.173</td><td>11.265</td><td>11.47</td><td>9.198</td><td>16.03</td><td>0.34</td><td>-0.34</td><td>6.89</td><td>0.818</td><td>280.0</td><td>740.51</td><td>108.06</td><td>-108.06</td><td>560.0</td><td>30.0</td><td>-30.0</td><td>CoRoT</td></tr>\n",
       "<tr><td>CoRoT-12b</td><td>100.765677</td><td>-1.296439</td><td>2.828042</td><td>0.04016</td><td>0.07</td><td>105.0</td><td>85.48</td><td>2454398.62707</td><td>0.10726</td><td>0.01744</td><td>5675.0</td><td>1.12</td><td>1.08</td><td>nan</td><td>15.515</td><td>16.343</td><td>nan</td><td>nan</td><td>14.024</td><td>13.63</td><td>13.557</td><td>13.47</td><td>13.47</td><td>12.53</td><td>8.61</td><td>16.14</td><td>1.46</td><td>-1.46</td><td>nan</td><td>0.573</td><td>125.5</td><td>291.438</td><td>22.247</td><td>-20.658</td><td>1150.0</td><td>85.0</td><td>-85.0</td><td>CoRoT</td></tr>\n",
       "<tr><td>CoRoT-13b</td><td>102.721137</td><td>-5.086445</td><td>4.03519</td><td>0.051</td><td>0.0</td><td>nan</td><td>88.02</td><td>2454790.8091</td><td>0.1308</td><td>nan</td><td>5945.0</td><td>1.01</td><td>1.09</td><td>nan</td><td>15.039</td><td>15.777</td><td>nan</td><td>nan</td><td>13.71</td><td>13.406</td><td>13.376</td><td>13.17</td><td>13.217</td><td>12.615</td><td>8.946</td><td>9.92</td><td>0.157</td><td>-0.157</td><td>10.81</td><td>0.374</td><td>157.8</td><td>415.704</td><td>20.976</td><td>-20.976</td><td>1060.0</td><td>100.0</td><td>-100.0</td><td>CoRoT</td></tr>\n",
       "<tr><td>CoRoT-14b</td><td>103.424211</td><td>-5.536037</td><td>1.51214</td><td>0.027</td><td>0.0</td><td>nan</td><td>79.6</td><td>2454787.6694</td><td>0.0693</td><td>nan</td><td>6035.0</td><td>1.21</td><td>1.13</td><td>nan</td><td>16.033</td><td>16.891</td><td>nan</td><td>nan</td><td>14.321</td><td>14.007</td><td>13.806</td><td>13.679</td><td>13.729</td><td>12.03</td><td>9.14</td><td>12.22</td><td>0.78</td><td>-0.78</td><td>4.78</td><td>0.86</td><td>1230.0</td><td>2415.4</td><td>190.7</td><td>-190.7</td><td>1340.0</td><td>110.0</td><td>-110.0</td><td>CoRoT</td></tr>\n",
       "<tr><td>CoRoT-16b</td><td>278.524691</td><td>-6.002595</td><td>5.35227</td><td>0.0618</td><td>0.33</td><td>168.41</td><td>85.01</td><td>2454923.9138</td><td>0.0996</td><td>0.0102</td><td>5650.0</td><td>1.19</td><td>1.1</td><td>nan</td><td>15.63</td><td>16.68</td><td>nan</td><td>nan</td><td>13.496</td><td>12.98</td><td>12.847</td><td>nan</td><td>nan</td><td>nan</td><td>nan</td><td>13.11</td><td>1.79</td><td>-1.57</td><td>11.2</td><td>0.825</td><td>61.96</td><td>170.032</td><td>27.014</td><td>-26.379</td><td>840.0</td><td>90.0</td><td>-90.0</td><td>CoRoT</td></tr>\n",
       "<tr><td>CoRoT-17b</td><td>278.699254</td><td>-6.612234</td><td>3.7681</td><td>0.0461</td><td>0.0</td><td>0.0</td><td>88.34</td><td>2454923.3093</td><td>0.196667</td><td>0.0044</td><td>5740.0</td><td>1.59</td><td>1.04</td><td>nan</td><td>15.46</td><td>nan</td><td>nan</td><td>nan</td><td>13.174</td><td>12.615</td><td>12.472</td><td>nan</td><td>nan</td><td>nan</td><td>nan</td><td>11.43</td><td>0.78</td><td>-0.78</td><td>6.23</td><td>0.18</td><td>312.4</td><td>772.29</td><td>95.34</td><td>-95.34</td><td>920.0</td><td>50.0</td><td>-50.0</td><td>CoRoT</td></tr>\n",
       "<tr><td>...</td><td>...</td><td>...</td><td>...</td><td>...</td><td>...</td><td>...</td><td>...</td><td>...</td><td>...</td><td>...</td><td>...</td><td>...</td><td>...</td><td>...</td><td>...</td><td>...</td><td>...</td><td>...</td><td>...</td><td>...</td><td>...</td><td>...</td><td>...</td><td>...</td><td>...</td><td>...</td><td>...</td><td>...</td><td>...</td><td>...</td><td>...</td><td>...</td><td>...</td><td>...</td><td>...</td><td>...</td><td>...</td><td>...</td></tr>\n",
       "<tr><td>WTS-1b</td><td>293.9932</td><td>36.290325</td><td>3.352057</td><td>0.047</td><td>0.1</td><td>nan</td><td>85.5</td><td>2454318.7472</td><td>nan</td><td>0.017636</td><td>6250.0</td><td>1.15</td><td>1.2</td><td>nan</td><td>16.13</td><td>nan</td><td>nan</td><td>nan</td><td>15.375</td><td>15.187</td><td>15.271</td><td>nan</td><td>nan</td><td>nan</td><td>nan</td><td>16.7</td><td>1.79</td><td>-2.02</td><td>nan</td><td>0.69</td><td>nan</td><td>1274.44</td><td>111.24</td><td>-111.24</td><td>3200.0</td><td>900.0</td><td>-400.0</td><td>United Kingdom Infrared Telescope</td></tr>\n",
       "<tr><td>WTS-2b</td><td>293.732796</td><td>36.815491</td><td>1.0187068</td><td>0.01855</td><td>0.0</td><td>nan</td><td>83.55</td><td>2454317.81333</td><td>nan</td><td>nan</td><td>5000.0</td><td>0.75</td><td>0.82</td><td>nan</td><td>15.9</td><td>16.8</td><td>nan</td><td>nan</td><td>13.928</td><td>13.464</td><td>13.414</td><td>13.299</td><td>13.367</td><td>12.107</td><td>9.176</td><td>15.278</td><td>0.684</td><td>-0.684</td><td>nan</td><td>0.584</td><td>256.0</td><td>355.9696</td><td>50.8528</td><td>-50.8528</td><td>1000.0</td><td>nan</td><td>nan</td><td>United Kingdom Infrared Telescope</td></tr>\n",
       "<tr><td>Wolf503b</td><td>206.847687</td><td>-6.136875</td><td>6.00118</td><td>0.0571</td><td>nan</td><td>nan</td><td>nan</td><td>2458185.36087</td><td>0.0550417</td><td>nan</td><td>4716.0</td><td>0.69</td><td>0.69</td><td>nan</td><td>10.26</td><td>11.27</td><td>nan</td><td>9.09</td><td>8.324</td><td>7.774</td><td>7.617</td><td>nan</td><td>nan</td><td>nan</td><td>nan</td><td>2.03</td><td>0.076</td><td>-0.073</td><td>nan</td><td>0.387</td><td>nan</td><td>nan</td><td>inf</td><td>inf</td><td>44.58</td><td>0.1</td><td>-0.1</td><td>K2</td></tr>\n",
       "<tr><td>XO-1b</td><td>240.54935</td><td>28.169586</td><td>3.94153</td><td>nan</td><td>0.0</td><td>nan</td><td>88.81</td><td>nan</td><td>nan</td><td>0.018000000000000002</td><td>5750.0</td><td>0.88</td><td>0.88</td><td>nan</td><td>11.19</td><td>11.85</td><td>10.81</td><td>10.43</td><td>9.939</td><td>9.601</td><td>9.527</td><td>9.495</td><td>9.518</td><td>9.507</td><td>9.248</td><td>12.778</td><td>0.785</td><td>-0.785</td><td>11.37</td><td>nan</td><td>116.0</td><td>263.7989</td><td>41.3179</td><td>-41.3179</td><td>164.33</td><td>0.62</td><td>-0.62</td><td>XO</td></tr>\n",
       "<tr><td>XO-2Nb</td><td>117.026968</td><td>50.2258</td><td>2.61586178</td><td>0.0368</td><td>nan</td><td>nan</td><td>88.01</td><td>2454508.73829</td><td>0.1118292</td><td>nan</td><td>5307.0</td><td>0.99</td><td>0.97</td><td>nan</td><td>11.138</td><td>12.002</td><td>10.669</td><td>10.243</td><td>9.744</td><td>9.34</td><td>9.308</td><td>9.24</td><td>9.31</td><td>9.236</td><td>8.833</td><td>11.131</td><td>0.135</td><td>-0.135</td><td>7.986</td><td>0.28</td><td>nan</td><td>179.89178</td><td>7.94575</td><td>-7.94575</td><td>154.94</td><td>1.45</td><td>-1.45</td><td>XO</td></tr>\n",
       "<tr><td>XO-3b</td><td>65.469581</td><td>57.817181</td><td>3.19154</td><td>nan</td><td>0.29</td><td>nan</td><td>79.32</td><td>nan</td><td>nan</td><td>0.0089</td><td>6429.0</td><td>1.54</td><td>0.58</td><td>nan</td><td>9.8</td><td>10.25</td><td>nan</td><td>nan</td><td>9.013</td><td>8.845</td><td>8.791</td><td>8.754</td><td>8.765</td><td>8.736</td><td>8.372</td><td>15.805</td><td>1.345</td><td>-1.345</td><td>4.95</td><td>nan</td><td>1488.0</td><td>2316.9807</td><td>378.2177</td><td>-378.2177</td><td>214.31</td><td>2.7</td><td>-2.7</td><td>XO</td></tr>\n",
       "<tr><td>XO-4b</td><td>110.388223</td><td>58.268108</td><td>4.12508</td><td>nan</td><td>0.0</td><td>nan</td><td>88.8</td><td>nan</td><td>nan</td><td>0.0078000000000000005</td><td>6397.0</td><td>1.45</td><td>1.1</td><td>nan</td><td>10.674</td><td>11.24</td><td>nan</td><td>nan</td><td>9.667</td><td>9.476</td><td>9.406</td><td>9.373</td><td>9.398</td><td>9.378</td><td>8.716</td><td>14.011</td><td>0.897</td><td>-0.897</td><td>7.68</td><td>nan</td><td>168.6</td><td>451.3186</td><td>60.3877</td><td>-60.3877</td><td>274.79</td><td>2.91</td><td>-2.91</td><td>XO</td></tr>\n",
       "<tr><td>XO-5b</td><td>116.716527</td><td>39.094578</td><td>4.1877558</td><td>0.0515</td><td>0.0</td><td>nan</td><td>86.8</td><td>2456864.3129</td><td>0.1299</td><td>0.0108</td><td>5430.0</td><td>1.13</td><td>1.04</td><td>nan</td><td>12.13</td><td>nan</td><td>nan</td><td>nan</td><td>10.774</td><td>10.443</td><td>10.345</td><td>10.333</td><td>10.381</td><td>10.292</td><td>8.354</td><td>12.78</td><td>0.34</td><td>-0.34</td><td>nan</td><td>0.55</td><td>146.0</td><td>378.2</td><td>9.53</td><td>-9.53</td><td>278.37</td><td>3.9</td><td>-3.9</td><td>XO</td></tr>\n",
       "<tr><td>XO-6b</td><td>94.793282</td><td>73.827682</td><td>3.7650007</td><td>0.0815</td><td>0.0</td><td>nan</td><td>86.0</td><td>2456652.71245</td><td>0.1208333</td><td>nan</td><td>6720.0</td><td>1.93</td><td>1.47</td><td>nan</td><td>10.25</td><td>nan</td><td>nan</td><td>nan</td><td>9.471</td><td>9.266</td><td>9.246</td><td>9.213</td><td>9.232</td><td>9.34</td><td>8.709</td><td>23.203</td><td>2.466</td><td>-2.466</td><td>9.08</td><td>0.633</td><td>450.0</td><td>1398.452</td><td>inf</td><td>inf</td><td>237.06</td><td>2.43</td><td>-2.43</td><td>XO</td></tr>\n",
       "<tr><td>piMenc</td><td>84.291214</td><td>-80.469124</td><td>6.2679</td><td>0.06839</td><td>0.0</td><td>nan</td><td>87.456</td><td>2458325.504</td><td>0.1230417</td><td>0.0003</td><td>6037.0</td><td>1.1</td><td>1.09</td><td>6.36</td><td>5.67</td><td>6.25</td><td>nan</td><td>nan</td><td>4.869</td><td>4.424</td><td>4.241</td><td>4.269</td><td>3.972</td><td>4.199</td><td>4.219</td><td>2.042</td><td>0.05</td><td>-0.05</td><td>13.38</td><td>0.59</td><td>1.58</td><td>4.82</td><td>0.84</td><td>-0.86</td><td>18.28</td><td>0.02</td><td>-0.02</td><td>Transiting Exoplanet Survey Satellite (TESS)</td></tr>\n",
       "</table>"
      ],
      "text/plain": [
       "<Table length=3135>\n",
       "   name       ra     ...                  discoverer                 \n",
       "             deg     ...                                             \n",
       "  str17    float64   ...                    str44                    \n",
       "--------- ---------- ... --------------------------------------------\n",
       "   55Cnce 133.149216 ...                         McDonald Observatory\n",
       "BD+20594b  53.650967 ...                                           K2\n",
       "CoRoT-10b 291.063708 ...                                        CoRoT\n",
       "CoRoT-11b 280.687263 ...                                        CoRoT\n",
       "CoRoT-12b 100.765677 ...                                        CoRoT\n",
       "CoRoT-13b 102.721137 ...                                        CoRoT\n",
       "CoRoT-14b 103.424211 ...                                        CoRoT\n",
       "CoRoT-16b 278.524691 ...                                        CoRoT\n",
       "CoRoT-17b 278.699254 ...                                        CoRoT\n",
       "      ...        ... ...                                          ...\n",
       "   WTS-1b   293.9932 ...            United Kingdom Infrared Telescope\n",
       "   WTS-2b 293.732796 ...            United Kingdom Infrared Telescope\n",
       " Wolf503b 206.847687 ...                                           K2\n",
       "    XO-1b  240.54935 ...                                           XO\n",
       "   XO-2Nb 117.026968 ...                                           XO\n",
       "    XO-3b  65.469581 ...                                           XO\n",
       "    XO-4b 110.388223 ...                                           XO\n",
       "    XO-5b 116.716527 ...                                           XO\n",
       "    XO-6b  94.793282 ...                                           XO\n",
       "   piMenc  84.291214 ... Transiting Exoplanet Survey Satellite (TESS)"
      ]
     },
     "execution_count": 4,
     "metadata": {},
     "output_type": "execute_result"
    }
   ],
   "source": [
    "pop.standard"
   ]
  },
  {
   "cell_type": "markdown",
   "metadata": {},
   "source": [
    "If desired, columns could be added to this standardized table:"
   ]
  },
  {
   "cell_type": "code",
   "execution_count": 5,
   "metadata": {},
   "outputs": [],
   "source": [
    "import numpy as np\n",
    "N = len(pop)\n",
    "pop.standard['something'] = np.arange(N) + 5"
   ]
  },
  {
   "cell_type": "markdown",
   "metadata": {},
   "source": [
    "## How do we access planet properties?\n",
    "The main way to access planet properties within a `Populatoin` is with its attributes. That is, we can access an array of the values for some property `x` by calling `pop.x`. Behind the scenes, the population will look to see if there is a column called `\"x\"` in the standardized table and return that column. For example, we can get an array of planet names with:"
   ]
  },
  {
   "cell_type": "code",
   "execution_count": 6,
   "metadata": {},
   "outputs": [
    {
     "data": {
      "text/plain": [
       "array(['55Cnce', 'BD+20594b', 'CoRoT-10b', ..., 'XO-5b', 'XO-6b',\n",
       "       'piMenc'], dtype='<U17')"
      ]
     },
     "execution_count": 6,
     "metadata": {},
     "output_type": "execute_result"
    }
   ],
   "source": [
    "pop.name"
   ]
  },
  {
   "cell_type": "markdown",
   "metadata": {},
   "source": [
    "Even columns that we separately added to the standardized table can be accessed as attributes:"
   ]
  },
  {
   "cell_type": "code",
   "execution_count": 7,
   "metadata": {},
   "outputs": [
    {
     "data": {
      "text/latex": [
       "$[   5,~   6,~   7,~\\dots,~3137,~3138,~3139] \\; \\mathrm{}$"
      ],
      "text/plain": [
       "<Quantity [   5,    6,    7, ..., 3137, 3138, 3139]>"
      ]
     },
     "execution_count": 7,
     "metadata": {},
     "output_type": "execute_result"
    }
   ],
   "source": [
    "pop.something"
   ]
  },
  {
   "cell_type": "markdown",
   "metadata": {},
   "source": [
    "We also have access to quantities that are not directly included in the table itself but can be calculated from them. For example, we can get an array of the amount of insolation that the planets receive from their stars as:"
   ]
  },
  {
   "cell_type": "code",
   "execution_count": 8,
   "metadata": {
    "scrolled": true
   },
   "outputs": [
    {
     "name": "stdout",
     "output_type": "stream",
     "text": [
      "[transitingexoplanets] 1626/3135 semimajoraxes are missing\n",
      "[transitingexoplanets] 0/3135 are still missing after NVK3L\n"
     ]
    },
    {
     "data": {
      "text/latex": [
       "$[3313157.1,~20290.402,~45613.962,~\\dots,~513270.26,~1402428.9,~421394.84] \\; \\mathrm{\\frac{W}{m^{2}}}$"
      ],
      "text/plain": [
       "<Quantity [3313157.14969688,   20290.40189733,   45613.96244702, ...,\n",
       "            513270.25674635, 1402428.87108827,  421394.84382526] W / m2>"
      ]
     },
     "execution_count": 8,
     "metadata": {},
     "output_type": "execute_result"
    }
   ],
   "source": [
    "pop.insolation"
   ]
  },
  {
   "cell_type": "markdown",
   "metadata": {},
   "source": [
    "In this case, the insolation is calculated from the planet's orbital separation and the luminosity of the star (which is itself calculated from the stellar effective temperature and radius).\n",
    "\n",
    "If information needed to do a calculation is missing, `exoatlas` will try to estimate them from other available information. In the `.insolation` case, some planets had no semimajor axes defined in the `.standard` table, but we were able to calculate this quantity from the orbital period, the stellar mass, and Newton's Version of Kepler's 3rd Law."
   ]
  },
  {
   "cell_type": "markdown",
   "metadata": {},
   "source": [
    "Short descriptions of some common attributes can printed with the `describe_columns()` function."
   ]
  },
  {
   "cell_type": "code",
   "execution_count": 9,
   "metadata": {},
   "outputs": [
    {
     "name": "stdout",
     "output_type": "stream",
     "text": [
      "               name = name of the planet\n",
      "                 ra = Right Ascension of the system\n",
      "                dec = Declination of the system\n",
      "           distance = distance to the system\n",
      "   distance_modulus = apparent magnitude - absolute magnitude\n",
      "         discoverer = telescope/project that found this planet\n",
      "       stellar_teff = stellar effective temperature\n",
      "       stellar_mass = stellar mass\n",
      "     stellar_radius = stellar radius\n",
      " stellar_luminosity = luminosity of the star\n",
      " stellar_brightness = photon flux from the star at Earth (a function of wavelength)\n",
      "             period = orbital period of the planet\n",
      "      semimajoraxis = the semimajor axis of the planet's orbit\n",
      "          a_over_rs = scaled orbital distance a/R*\n",
      "                  b = impact parameter b\n",
      "                  e = eccentricity\n",
      "              omega = argument of periastron\n",
      "             radius = planet radius\n",
      "               mass = planet mass\n",
      "            density = density of the planet\n",
      "         insolation = bolometric energy flux the planet receives from its star\n",
      "relative_insolation = insolation relative to Earth\n",
      "                teq = equilibrium temperature of the planet (assuming 0 albedo)\n",
      "    surface_gravity = surface gravity of the planet\n",
      "       scale_height = scale height of an H2-rich atmosphere\n",
      "    escape_velocity = escape velocity of the planet\n",
      "   escape_parameter = ratio of gravitational potential to thermal energy for an H atom\n",
      "      transit_epoch = a transit midpoint\n",
      "   transit_duration = duration of the transit\n",
      "      transit_depth = fraction of starlight the planet blocks\n",
      "         transit_ar = (transit-derived) scaled orbital distance a/R*\n",
      "          transit_b = (transit-derived) impact parameter b\n",
      "transmission_signal = transit depth of one scale height of atmosphere\n",
      "    emission_signal = thermal-emission eclipse depth (a function of wavelength)\n",
      "  reflection_signal = reflected-light eclipse depth (for an albedo of 1)\n"
     ]
    }
   ],
   "source": [
    "ea.describe_columns()"
   ]
  },
  {
   "cell_type": "markdown",
   "metadata": {},
   "source": [
    "With this toolkit, you can now access the data you need to make some pretty fundamental plots in exoplanetary science. For example:"
   ]
  },
  {
   "cell_type": "code",
   "execution_count": 10,
   "metadata": {},
   "outputs": [
    {
     "name": "stdout",
     "output_type": "stream",
     "text": [
      "[transitingexoplanets] 1626/3135 semimajoraxes are missing\n",
      "[transitingexoplanets] 0/3135 are still missing after NVK3L\n"
     ]
    },
    {
     "data": {
      "image/png": "[encoded data removed]",
      "text/plain": [
       "<Figure size 432x288 with 1 Axes>"
      ]
     },
     "metadata": {},
     "output_type": "display_data"
    }
   ],
   "source": [
    "import matplotlib.pyplot as plt\n",
    "plt.loglog(pop.relative_insolation, pop.radius, '.')\n",
    "plt.xlabel('Flux Received (relative to Earth)')\n",
    "plt.ylabel('Planet Radius (Earth radii)');"
   ]
  },
  {
   "cell_type": "markdown",
   "metadata": {},
   "source": [
    "## How do we access some sub-population of planets?\n",
    "Often we'll want to pull out some subset of a population. We might want a smaller sample of planets, or all the planets that meet some particular criterion, or maybe the properties of one individual planet. In our experience with `numpy` arrays or `astropy` tables, we've often done this by indexing (`x[0]` or `x[[0, 1, 5]]`), slicing (`x[3:30]`), or masking (`x[some_array > some_other_array]`). \n",
    "\n",
    "We can apply the same methods to a `Population`, creating smaller populations by indexing, slicing, or masking. Anything we can do with a `Population` we can do with one of these sub-`Population`s that we create."
   ]
  },
  {
   "cell_type": "code",
   "execution_count": 11,
   "metadata": {},
   "outputs": [
    {
     "data": {
      "text/plain": [
       "<Transiting Exoplanets | population of 3135 planets>"
      ]
     },
     "execution_count": 11,
     "metadata": {},
     "output_type": "execute_result"
    }
   ],
   "source": [
    "pop"
   ]
  },
  {
   "cell_type": "code",
   "execution_count": 12,
   "metadata": {},
   "outputs": [
    {
     "data": {
      "text/plain": [
       "<ExoplanetSubsets of Transiting Exoplanets | population of 1 planets>"
      ]
     },
     "execution_count": 12,
     "metadata": {},
     "output_type": "execute_result"
    }
   ],
   "source": [
    "one_planet = pop[0]\n",
    "one_planet"
   ]
  },
  {
   "cell_type": "code",
   "execution_count": 13,
   "metadata": {},
   "outputs": [
    {
     "name": "stdout",
     "output_type": "stream",
     "text": [
      "   [population] 0/1 semimajoraxes are missing\n",
      "   [population] 0/1 are still missing after NVK3L\n"
     ]
    },
    {
     "data": {
      "text/plain": [
       "(array(['55Cnce'], dtype='<U17'),\n",
       " <Quantity [1.91] earthRad>,\n",
       " <Quantity [3313157.14969688] W / m2>)"
      ]
     },
     "execution_count": 13,
     "metadata": {},
     "output_type": "execute_result"
    }
   ],
   "source": [
    "one_planet.name, one_planet.radius, one_planet.insolation"
   ]
  },
  {
   "cell_type": "code",
   "execution_count": 14,
   "metadata": {},
   "outputs": [
    {
     "data": {
      "text/plain": [
       "<ExoplanetSubsets of Transiting Exoplanets | population of 9 planets>"
      ]
     },
     "execution_count": 14,
     "metadata": {},
     "output_type": "execute_result"
    }
   ],
   "source": [
    "prime_planets = pop[[2, 3, 5, 7, 11, 13, 17, 19, 23]]\n",
    "prime_planets"
   ]
  },
  {
   "cell_type": "code",
   "execution_count": 15,
   "metadata": {},
   "outputs": [
    {
     "data": {
      "text/plain": [
       "<ExoplanetSubsets of Transiting Exoplanets | population of 10 planets>"
      ]
     },
     "execution_count": 15,
     "metadata": {},
     "output_type": "execute_result"
    }
   ],
   "source": [
    "first_ten = pop[:10]\n",
    "first_ten"
   ]
  },
  {
   "cell_type": "code",
   "execution_count": 16,
   "metadata": {},
   "outputs": [
    {
     "data": {
      "text/plain": [
       "<ExoplanetSubsets of Transiting Exoplanets | population of 1568 planets>"
      ]
     },
     "execution_count": 16,
     "metadata": {},
     "output_type": "execute_result"
    }
   ],
   "source": [
    "every_other_exoplanet = pop[::2]\n",
    "every_other_exoplanet"
   ]
  },
  {
   "cell_type": "code",
   "execution_count": 17,
   "metadata": {},
   "outputs": [
    {
     "data": {
      "text/plain": [
       "<ExoplanetSubsets of Transiting Exoplanets | population of 2433 planets>"
      ]
     },
     "execution_count": 17,
     "metadata": {},
     "output_type": "execute_result"
    }
   ],
   "source": [
    "small = pop[pop.radius < 4*u.Rearth]\n",
    "small"
   ]
  },
  {
   "cell_type": "markdown",
   "metadata": {},
   "source": [
    "Additionally, we can extract an individual planet or a list of planets by indexing the population with planet name(s). This is using astropy tables' `.loc` functionality, with `\"name\"` being used as an index."
   ]
  },
  {
   "cell_type": "code",
   "execution_count": 18,
   "metadata": {},
   "outputs": [
    {
     "data": {
      "text/plain": [
       "<ExoplanetSubsets of Transiting Exoplanets | population of 1 planets>"
      ]
     },
     "execution_count": 18,
     "metadata": {},
     "output_type": "execute_result"
    }
   ],
   "source": [
    "cute_planet = pop['GJ 1214b']\n",
    "cute_planet"
   ]
  },
  {
   "cell_type": "code",
   "execution_count": 19,
   "metadata": {},
   "outputs": [
    {
     "data": {
      "text/plain": [
       "<ExoplanetSubsets of Transiting Exoplanets | population of 3 planets>"
      ]
     },
     "execution_count": 19,
     "metadata": {},
     "output_type": "execute_result"
    }
   ],
   "source": [
    "cute_planets = pop[['LHS 1140b', 'GJ 1214b', 'GJ 436b']]\n",
    "cute_planets"
   ]
  },
  {
   "cell_type": "markdown",
   "metadata": {},
   "source": [
    "## Explore!\n",
    "That's about it. For more information about different pre-defined populations see [Creating](creating.html), and for more about pre-packaged visualizations see [Visualizing](visualizing.html)."
   ]
  }
 ],
 "metadata": {
  "kernelspec": {
   "display_name": "Python 3",
   "language": "python",
   "name": "python3"
  },
  "language_info": {
   "codemirror_mode": {
    "name": "ipython",
    "version": 3
   },
   "file_extension": ".py",
   "mimetype": "text/x-python",
   "name": "python",
   "nbconvert_exporter": "python",
   "pygments_lexer": "ipython3",
   "version": "3.6.3"
  }
 },
 "nbformat": 4,
 "nbformat_minor": 2
}
